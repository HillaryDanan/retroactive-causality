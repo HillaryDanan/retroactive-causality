# Cell 1: Setup
import sys
sys.path.append('..')
import numpy as np
import pandas as pd
from tqdm import tqdm

from src.models.model_loader import load_gpt2_model
from src.measurements.token_updates import measure_batch_sentences
from src.measurements.distributions import compare_distributions, plot_distribution_comparison

# Cell 2: Load Model and Data
model, tokenizer = load_gpt2_model()

# Load garden path sentences
with open('../data/garden_path_sentences.txt', 'r') as f:
    lines = [l.strip() for l in f if l.strip() and not l.startswith('#')]

garden_pairs = []
for line in lines:
    if '|' in line:
        base, cont = line.split('|')
        garden_pairs.append((base.strip(), cont.strip()))

# Load control sentences
control_df = pd.read_csv('../data/cache/control_sentences.csv')
control_pairs = [(s.rsplit(' ', 1)[0], s.rsplit(' ', 1)[1]) 
                 for s in control_df['sentence'] if ' ' in s]

# Cell 3: Measure Distributions (NO THRESHOLDS!)
print("Measuring garden path distributions...")
garden_distances = measure_batch_sentences(
    model, tokenizer, garden_pairs[:10],  # Start with 10
    layers_to_analyze=[0, 6, 11]  # Early, middle, late
)

print("Measuring control distributions...")
control_distances = measure_batch_sentences(
    model, tokenizer, control_pairs[:10],
    layers_to_analyze=[0, 6, 11]
)

# Cell 4: Compare Distributions
comparison = compare_distributions(
    garden_distances, 
    control_distances,
    labels=('Garden Path', 'Control')
)

print(f"Garden Path mean: {comparison['means']['Garden Path']:.4f}")
print(f"Control mean: {comparison['means']['Control']:.4f}")
print(f"Cohen's d: {comparison['cohens_d']:.3f} ({comparison['effect_size_interpretation']})")
print(f"Wasserstein distance: {comparison['wasserstein_distance']:.4f}")
print(f"KS test p-value: {comparison['kolmogorov_smirnov']['p_value']:.6f}")

# Cell 5: Visualize
fig = plot_distribution_comparison(
    garden_distances,
    control_distances,
    labels=('Garden Path', 'Control'),
    title='Token Update Distributions: Garden Path vs Control'
)
fig.savefig('../results/figures/distribution_comparison.png', dpi=300, bbox_inches='tight')

# Cell 6: Save Raw Data
np.save('../results/distributions/garden_path_distances.npy', garden_distances)
np.save('../results/distributions/control_distances.npy', control_distances)

with open('../results/distributions/comparison_stats.json', 'w') as f:
    import json
    json.dump(comparison, f, indent=2, default=str)