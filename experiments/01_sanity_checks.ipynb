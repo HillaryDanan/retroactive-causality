# Cell 1: Setup
import sys
sys.path.append('..')

from src.models.model_loader import load_gpt2_model
from src.sanity_checks.reproduce_papers import run_all_sanity_checks

# Cell 2: Load Model
model, tokenizer = load_gpt2_model()

# Cell 3: Run Sanity Checks
success = run_all_sanity_checks(model, tokenizer)

if not success:
    raise ValueError("Sanity checks failed - fix before proceeding!")

# Cell 4: Document Success
with open('../results/sanity_checks_passed.txt', 'w') as f:
    f.write("All sanity checks passed successfully\n")
    f.write(f"Model: GPT-2 124M\n")
    f.write(f"Date: {datetime.now()}\n")